{
 "metadata": {
  "language_info": {
   "codemirror_mode": {
    "name": "ipython",
    "version": 3
   },
   "file_extension": ".py",
   "mimetype": "text/x-python",
   "name": "python",
   "nbconvert_exporter": "python",
   "pygments_lexer": "ipython3",
   "version": "3.7.7-final"
  },
  "orig_nbformat": 2,
  "kernelspec": {
   "name": "python3",
   "display_name": "Python 3"
  }
 },
 "nbformat": 4,
 "nbformat_minor": 2,
 "cells": [
  {
   "cell_type": "code",
   "execution_count": 14,
   "metadata": {},
   "outputs": [],
   "source": [
    "import pandas as pd\n",
    "import numpy as np\n",
    "import matplotlib.pyplot as plt\n",
    "import seaborn as sns\n",
    "import pickle\n",
    "from scipy.linalg import svd\n",
    "from sklearn.metrics import pairwise_distances\n",
    "from sklearn.preprocessing import MinMaxScaler"
   ]
  },
  {
   "cell_type": "code",
   "execution_count": 9,
   "metadata": {},
   "outputs": [],
   "source": [
    "pd.set_option(\"display.max_columns\", 500)\n",
    "pd.set_option(\"display.max_rows\", 500)\n",
    "pd.set_option(\"display.precision\", 4)\n",
    "pd.options.display.max_colwidth = 500"
   ]
  },
  {
   "cell_type": "code",
   "execution_count": 42,
   "metadata": {},
   "outputs": [],
   "source": [
    "aspect_df = pickle.load(open('aspect_df.p', 'rb'))\n",
    "aspect_df = aspect_df.sample(frac=0.5, replace=False, random_state=42)"
   ]
  },
  {
   "cell_type": "code",
   "execution_count": 16,
   "metadata": {},
   "outputs": [],
   "source": [
    "df_subset = pickle.load(open('df.p', 'rb'))"
   ]
  },
  {
   "cell_type": "code",
   "execution_count": 54,
   "metadata": {},
   "outputs": [],
   "source": [
    "scaler = MinMaxScaler(feature_range=(0, 1))"
   ]
  },
  {
   "cell_type": "code",
   "execution_count": 55,
   "metadata": {},
   "outputs": [],
   "source": [
    "group_aspect = aspect_df.groupby('business_id').mean().reset_index()\n",
    "features = scaler.fit_transform(group_aspect.iloc[:, 1:6])\n",
    "group_aspect.iloc[:, 1:6] = features"
   ]
  },
  {
   "cell_type": "code",
   "execution_count": 66,
   "metadata": {},
   "outputs": [],
   "source": [
    "features = scaler.fit_transform(aspect_df.iloc[:, 2:6])\n",
    "aspect_df.iloc[:, 2:6] = features"
   ]
  },
  {
   "cell_type": "code",
   "execution_count": 67,
   "metadata": {},
   "outputs": [],
   "source": [
    "aspect_df['calc_rating'] = (aspect_df['price_score']+aspect_df['ambience_score']+aspect_df['service_score']+aspect_df['food_score'])*aspect_df['sentiment_score']"
   ]
  },
  {
   "cell_type": "code",
   "execution_count": 22,
   "metadata": {},
   "outputs": [],
   "source": [
    "df_user = pd.pivot_table(aspect_df, values=['calc_rating'], index=['business_id', 'user_id'], aggfunc=np.mean).unstack()\n",
    "df_user.columns = df_user.columns.droplevel()"
   ]
  },
  {
   "cell_type": "code",
   "execution_count": 23,
   "metadata": {},
   "outputs": [],
   "source": [
    "df_user = df_user.fillna(-100)"
   ]
  },
  {
   "cell_type": "code",
   "execution_count": 24,
   "metadata": {},
   "outputs": [],
   "source": [
    "food_usage, usage, usage_user = svd(df_user, full_matrices=False)"
   ]
  },
  {
   "cell_type": "code",
   "execution_count": 25,
   "metadata": {},
   "outputs": [],
   "source": [
    "usages = [f'usage_{i}' for i in range(len(usage))]\n",
    "usages = pd.Series(data=usage, index=usages)"
   ]
  },
  {
   "cell_type": "code",
   "execution_count": 26,
   "metadata": {},
   "outputs": [],
   "source": [
    "df_food_usage = pd.DataFrame(data=food_usage, index=df_user.index, columns=usages.index)"
   ]
  },
  {
   "cell_type": "code",
   "execution_count": 27,
   "metadata": {},
   "outputs": [],
   "source": [
    "df_usage_user = pd.DataFrame(data=usage_user, index=usages.index, columns=df_user.columns)\n",
    "df_user_usage = df_usage_user.T"
   ]
  },
  {
   "cell_type": "code",
   "execution_count": 28,
   "metadata": {},
   "outputs": [
    {
     "output_type": "execute_result",
     "data": {
      "text/plain": [
       "1160"
      ]
     },
     "metadata": {},
     "execution_count": 28
    }
   ],
   "source": [
    "explained_varaince = (usages / usages.sum()).cumsum()\n",
    "(explained_varaince <= 0.8).sum()"
   ]
  },
  {
   "cell_type": "code",
   "execution_count": 29,
   "metadata": {},
   "outputs": [],
   "source": [
    "dists_users = pairwise_distances(df_user_usage.iloc[:, :1144], metric='cosine')\n",
    "dists_users = pd.DataFrame(dists_users, index=df_user_usage.index, columns=df_user_usage.index)"
   ]
  },
  {
   "cell_type": "code",
   "execution_count": 30,
   "metadata": {},
   "outputs": [],
   "source": [
    "def get_user_neighbors(user, neighborhood=10):\n",
    "    '''\n",
    "    Given a user, return the closest users by the `dists_users` matrix\n",
    "    '''\n",
    "    neighbors = dists_users[user].sort_values()[:neighborhood]\n",
    "    \n",
    "    return neighbors"
   ]
  },
  {
   "cell_type": "code",
   "execution_count": 31,
   "metadata": {},
   "outputs": [
    {
     "output_type": "execute_result",
     "data": {
      "text/plain": [
       "Index(['6Ki3bAL0wx9ymbdJqbSWMA', 'Lfv4hefW1VbvaC2gatTFWA',\n",
       "       'rCWrxuRC8_pfagpchtHp6A', 'fmzIm7RxEdii5Jz44PtO7g',\n",
       "       '4wp4XI9AxKNqJima-xahlg', '8AwcaBJjiMpQ__FPxktwwQ',\n",
       "       'd0D7L-vfQDIADolnPAcb9A', '4m9NXICYBC5i9t4aTt-I6w',\n",
       "       'ACwBMSJzgW6vOvV7vOrk8Q', '5JVY32_bmTBfIGpCCsnAfw'],\n",
       "      dtype='object', name='user_id')"
      ]
     },
     "metadata": {},
     "execution_count": 31
    }
   ],
   "source": [
    "top_users = (df_user > 0).sum(axis=0).sort_values(ascending=False).index[:10]\n",
    "top_users"
   ]
  },
  {
   "cell_type": "code",
   "execution_count": 32,
   "metadata": {},
   "outputs": [
    {
     "output_type": "execute_result",
     "data": {
      "text/plain": [
       "user_id\n",
       "8tZg2zUibRdMpi4J07x8lQ    0.4429\n",
       "MJK355xlNSmNIMQR9uiMhw    0.4761\n",
       "uV6BVZvfZlkXE_kDl5TYvA    0.6184\n",
       "cMICMnkK9tY8LZuo3c0wmw    0.6218\n",
       "-GuvrWICxU0Geuzf6C6ueg    0.6219\n",
       "JTxAi7AjAI9Kyomz_sjrGA    0.6221\n",
       "Fzn6uxciZpmDqdqumbllsw    0.6224\n",
       "oA9_53PYHfZ0hfj6yiLvXw    0.6459\n",
       "RMyS4XeIhDTVTwZWrgIYQQ    0.6669\n",
       "jE72VXCulJovxqa-1-xRKQ    0.6708\n",
       "ova6bEhtQdJBoDpv-SXGBg    0.6737\n",
       "5N8gnPF1Z-gNRSW61ml4wQ    0.6745\n",
       "GELAYOjfMP3UFzsvGW_9hw    0.6749\n",
       "q24Yt8KSOY9mmDFJQCWfnQ    0.6754\n",
       "Bx9eipleQL2MXYnIF2NgQQ    0.6754\n",
       "LYofqaVL9Gi0bD2MH8Mp0g    0.6754\n",
       "rG3DBzCbrdduHPn6sWAGxA    0.6759\n",
       "v2f0S4pYC9K9z9vSWvssdQ    0.6782\n",
       "4PnnMO-RjQupXGy1peKBOA    0.6810\n",
       "l3gaXTfWJfawjBRBUdsC-g    0.7378\n",
       "-hH7gZo6LNoNmr4vSJXPnQ    0.7459\n",
       "EVUcN4EEO-3gqhcsOTA2HQ    0.7459\n",
       "harBoh7qn8PeCiz2haZ0nA    0.7459\n",
       "0enntixMjOfDclGF-ivgzA    0.7460\n",
       "I26_9YN1UBHuRb01AFCVmw    0.7461\n",
       "TCtvPbF143x-3WsVpO8q2A    0.7461\n",
       "bCEEgcAFFs23vt9XOj4_7g    0.7462\n",
       "T2GVsPR6hK_TtUXtQXK3kw    0.7557\n",
       "1LUpRfjduqrBbLpQU4IQcw    0.7717\n",
       "e9eEpVE3BlwUQKVVYYv-FA    0.7780\n",
       "HaJKQ4UgxVxV2fHjSL4muw    0.7782\n",
       "zIG_6Qupb_KcofxUhvWQxQ    0.7785\n",
       "-2d53Lq30jLAKAfB6UOMeA    0.7786\n",
       "4-l4Bzfi1HWMAnAZPcDQeA    0.7787\n",
       "8pMD14LKEbn3TLQf6z3dCg    0.7790\n",
       "bXLK0qX7Z_wHqIqN6P-61Q    0.7792\n",
       "VVuEWxu6EOlM983QI5L_xw    0.7797\n",
       "14aFc0knShstCJUEczUbwA    0.7888\n",
       "2P_6qkzuh6BUbukeTCM_bQ    0.7890\n",
       "H3WIdW9E-QUjZXPwEBdG2g    0.7980\n",
       "hOVKuWWPSZqWnZd7nodFBw    0.7980\n",
       "z8Pw1e7Q2S-01XmnkXLENw    0.7980\n",
       "eG0lzb04HP4IIUhL3I2eXw    0.7980\n",
       "IConfV9eyeT_KcnT3-ek9A    0.7981\n",
       "ck6zktLIoKeXNczooBaNmA    0.7981\n",
       "4FKi9pf5EIXFzsH36R7sWA    0.7983\n",
       "uOYhRRceTon7sgG7uOY_UA    0.7985\n",
       "dahbN08U85CHJNpCazrTrQ    0.8077\n",
       "f61VnlgdQcNvdxS5uHPcoA    0.8077\n",
       "ZrLYsX1yGYSpcZ2DNQbAvQ    0.8081\n",
       "Z_FzGGu5vggFwelcMy17oA    0.8082\n",
       "tgzykwiRJZyyLTUCqwBNEQ    0.8158\n",
       "F6VWtEmBci_w_lqcmnGJ1A    0.8220\n",
       "e5pyf1lm0H6t-6P8sq3tBQ    0.8220\n",
       "MClukJ-vTxTvi3vSUlur2A    0.8382\n",
       "Qtpzo30r83Jaqr4CX4-Urg    0.8382\n",
       "7D0V9E-9feDNFUkq581jlQ    0.8382\n",
       "fcNckRiv5_57ZW03t3HYmw    0.8382\n",
       "Ml_csiUbdMHpmgfcExSyiA    0.8382\n",
       "CNXwJj_a8qVRbfY1fC8bDQ    0.8382\n",
       "Name: rCWrxuRC8_pfagpchtHp6A, dtype: float64"
      ]
     },
     "metadata": {},
     "execution_count": 32
    }
   ],
   "source": [
    "user = 'rCWrxuRC8_pfagpchtHp6A'\n",
    "\n",
    "n_neighbors = 60\n",
    "\n",
    "neighbors = get_user_neighbors(user, n_neighbors+1)\n",
    "neighbors = neighbors[1:]  # We don't want to include the user themself\n",
    "neighbors"
   ]
  },
  {
   "cell_type": "code",
   "execution_count": 33,
   "metadata": {},
   "outputs": [
    {
     "output_type": "execute_result",
     "data": {
      "text/plain": [
       "user_id                 8tZg2zUibRdMpi4J07x8lQ  MJK355xlNSmNIMQR9uiMhw  \\\n",
       "business_id                                                              \n",
       "6PaLW1K478xyePOxUI56vg                     NaN                     NaN   \n",
       "WqV7zB_AbmUm9ww4f5W0kA                     NaN                     NaN   \n",
       "\n",
       "user_id                 uV6BVZvfZlkXE_kDl5TYvA  cMICMnkK9tY8LZuo3c0wmw  \\\n",
       "business_id                                                              \n",
       "6PaLW1K478xyePOxUI56vg                     NaN                     NaN   \n",
       "WqV7zB_AbmUm9ww4f5W0kA                     NaN                     NaN   \n",
       "\n",
       "user_id                 -GuvrWICxU0Geuzf6C6ueg  JTxAi7AjAI9Kyomz_sjrGA  \\\n",
       "business_id                                                              \n",
       "6PaLW1K478xyePOxUI56vg                     NaN                     NaN   \n",
       "WqV7zB_AbmUm9ww4f5W0kA                     NaN                     NaN   \n",
       "\n",
       "user_id                 Fzn6uxciZpmDqdqumbllsw  oA9_53PYHfZ0hfj6yiLvXw  \\\n",
       "business_id                                                              \n",
       "6PaLW1K478xyePOxUI56vg                     NaN                     NaN   \n",
       "WqV7zB_AbmUm9ww4f5W0kA                     NaN                     NaN   \n",
       "\n",
       "user_id                 RMyS4XeIhDTVTwZWrgIYQQ  jE72VXCulJovxqa-1-xRKQ  \\\n",
       "business_id                                                              \n",
       "6PaLW1K478xyePOxUI56vg                     NaN                     NaN   \n",
       "WqV7zB_AbmUm9ww4f5W0kA                     NaN                     NaN   \n",
       "\n",
       "user_id                 ova6bEhtQdJBoDpv-SXGBg  5N8gnPF1Z-gNRSW61ml4wQ  \\\n",
       "business_id                                                              \n",
       "6PaLW1K478xyePOxUI56vg                     NaN                     NaN   \n",
       "WqV7zB_AbmUm9ww4f5W0kA                     NaN                     NaN   \n",
       "\n",
       "user_id                 GELAYOjfMP3UFzsvGW_9hw  q24Yt8KSOY9mmDFJQCWfnQ  \\\n",
       "business_id                                                              \n",
       "6PaLW1K478xyePOxUI56vg                     NaN                     NaN   \n",
       "WqV7zB_AbmUm9ww4f5W0kA                     NaN                     NaN   \n",
       "\n",
       "user_id                 Bx9eipleQL2MXYnIF2NgQQ  LYofqaVL9Gi0bD2MH8Mp0g  \\\n",
       "business_id                                                              \n",
       "6PaLW1K478xyePOxUI56vg                     NaN                     NaN   \n",
       "WqV7zB_AbmUm9ww4f5W0kA                     NaN                     NaN   \n",
       "\n",
       "user_id                 rG3DBzCbrdduHPn6sWAGxA  v2f0S4pYC9K9z9vSWvssdQ  \\\n",
       "business_id                                                              \n",
       "6PaLW1K478xyePOxUI56vg                     NaN                     NaN   \n",
       "WqV7zB_AbmUm9ww4f5W0kA                     NaN                     NaN   \n",
       "\n",
       "user_id                 4PnnMO-RjQupXGy1peKBOA  l3gaXTfWJfawjBRBUdsC-g  \\\n",
       "business_id                                                              \n",
       "6PaLW1K478xyePOxUI56vg                     NaN                     NaN   \n",
       "WqV7zB_AbmUm9ww4f5W0kA                     NaN                     NaN   \n",
       "\n",
       "user_id                 -hH7gZo6LNoNmr4vSJXPnQ  EVUcN4EEO-3gqhcsOTA2HQ  \\\n",
       "business_id                                                              \n",
       "6PaLW1K478xyePOxUI56vg                     NaN                     NaN   \n",
       "WqV7zB_AbmUm9ww4f5W0kA                     NaN                     NaN   \n",
       "\n",
       "user_id                 harBoh7qn8PeCiz2haZ0nA  0enntixMjOfDclGF-ivgzA  \\\n",
       "business_id                                                              \n",
       "6PaLW1K478xyePOxUI56vg                     NaN                     NaN   \n",
       "WqV7zB_AbmUm9ww4f5W0kA                     NaN                     NaN   \n",
       "\n",
       "user_id                 I26_9YN1UBHuRb01AFCVmw  TCtvPbF143x-3WsVpO8q2A  \\\n",
       "business_id                                                              \n",
       "6PaLW1K478xyePOxUI56vg                     NaN                     NaN   \n",
       "WqV7zB_AbmUm9ww4f5W0kA                     NaN                     NaN   \n",
       "\n",
       "user_id                 bCEEgcAFFs23vt9XOj4_7g  T2GVsPR6hK_TtUXtQXK3kw  \\\n",
       "business_id                                                              \n",
       "6PaLW1K478xyePOxUI56vg                     NaN                     NaN   \n",
       "WqV7zB_AbmUm9ww4f5W0kA                     NaN                     NaN   \n",
       "\n",
       "user_id                 1LUpRfjduqrBbLpQU4IQcw  e9eEpVE3BlwUQKVVYYv-FA  \\\n",
       "business_id                                                              \n",
       "6PaLW1K478xyePOxUI56vg                   4.895                     NaN   \n",
       "WqV7zB_AbmUm9ww4f5W0kA                     NaN                     NaN   \n",
       "\n",
       "user_id                 HaJKQ4UgxVxV2fHjSL4muw  zIG_6Qupb_KcofxUhvWQxQ  \\\n",
       "business_id                                                              \n",
       "6PaLW1K478xyePOxUI56vg                     NaN                     NaN   \n",
       "WqV7zB_AbmUm9ww4f5W0kA                     NaN                     NaN   \n",
       "\n",
       "user_id                 -2d53Lq30jLAKAfB6UOMeA  4-l4Bzfi1HWMAnAZPcDQeA  \\\n",
       "business_id                                                              \n",
       "6PaLW1K478xyePOxUI56vg                     NaN                     NaN   \n",
       "WqV7zB_AbmUm9ww4f5W0kA                     NaN                     NaN   \n",
       "\n",
       "user_id                 8pMD14LKEbn3TLQf6z3dCg  bXLK0qX7Z_wHqIqN6P-61Q  \\\n",
       "business_id                                                              \n",
       "6PaLW1K478xyePOxUI56vg                     NaN                     NaN   \n",
       "WqV7zB_AbmUm9ww4f5W0kA                     NaN                     NaN   \n",
       "\n",
       "user_id                 VVuEWxu6EOlM983QI5L_xw  14aFc0knShstCJUEczUbwA  \\\n",
       "business_id                                                              \n",
       "6PaLW1K478xyePOxUI56vg                     NaN                     NaN   \n",
       "WqV7zB_AbmUm9ww4f5W0kA                     NaN                     NaN   \n",
       "\n",
       "user_id                 2P_6qkzuh6BUbukeTCM_bQ  H3WIdW9E-QUjZXPwEBdG2g  \\\n",
       "business_id                                                              \n",
       "6PaLW1K478xyePOxUI56vg                     NaN                     NaN   \n",
       "WqV7zB_AbmUm9ww4f5W0kA                     NaN                     NaN   \n",
       "\n",
       "user_id                 hOVKuWWPSZqWnZd7nodFBw  z8Pw1e7Q2S-01XmnkXLENw  \\\n",
       "business_id                                                              \n",
       "6PaLW1K478xyePOxUI56vg                     NaN                     NaN   \n",
       "WqV7zB_AbmUm9ww4f5W0kA                     NaN                     NaN   \n",
       "\n",
       "user_id                 eG0lzb04HP4IIUhL3I2eXw  IConfV9eyeT_KcnT3-ek9A  \\\n",
       "business_id                                                              \n",
       "6PaLW1K478xyePOxUI56vg                     NaN                     NaN   \n",
       "WqV7zB_AbmUm9ww4f5W0kA                     NaN                     NaN   \n",
       "\n",
       "user_id                 ck6zktLIoKeXNczooBaNmA  4FKi9pf5EIXFzsH36R7sWA  \\\n",
       "business_id                                                              \n",
       "6PaLW1K478xyePOxUI56vg                     NaN                     NaN   \n",
       "WqV7zB_AbmUm9ww4f5W0kA                     NaN                     NaN   \n",
       "\n",
       "user_id                 uOYhRRceTon7sgG7uOY_UA  dahbN08U85CHJNpCazrTrQ  \\\n",
       "business_id                                                              \n",
       "6PaLW1K478xyePOxUI56vg                     NaN                     NaN   \n",
       "WqV7zB_AbmUm9ww4f5W0kA                     NaN                     NaN   \n",
       "\n",
       "user_id                 f61VnlgdQcNvdxS5uHPcoA  ZrLYsX1yGYSpcZ2DNQbAvQ  \\\n",
       "business_id                                                              \n",
       "6PaLW1K478xyePOxUI56vg                     NaN                     NaN   \n",
       "WqV7zB_AbmUm9ww4f5W0kA                     NaN                     NaN   \n",
       "\n",
       "user_id                 Z_FzGGu5vggFwelcMy17oA  tgzykwiRJZyyLTUCqwBNEQ  \\\n",
       "business_id                                                              \n",
       "6PaLW1K478xyePOxUI56vg                     NaN                     NaN   \n",
       "WqV7zB_AbmUm9ww4f5W0kA                     NaN                  4.8891   \n",
       "\n",
       "user_id                 F6VWtEmBci_w_lqcmnGJ1A  e5pyf1lm0H6t-6P8sq3tBQ  \\\n",
       "business_id                                                              \n",
       "6PaLW1K478xyePOxUI56vg                     NaN                     NaN   \n",
       "WqV7zB_AbmUm9ww4f5W0kA                     NaN                     NaN   \n",
       "\n",
       "user_id                 MClukJ-vTxTvi3vSUlur2A  Qtpzo30r83Jaqr4CX4-Urg  \\\n",
       "business_id                                                              \n",
       "6PaLW1K478xyePOxUI56vg                     NaN                     NaN   \n",
       "WqV7zB_AbmUm9ww4f5W0kA                     NaN                     NaN   \n",
       "\n",
       "user_id                 7D0V9E-9feDNFUkq581jlQ  fcNckRiv5_57ZW03t3HYmw  \\\n",
       "business_id                                                              \n",
       "6PaLW1K478xyePOxUI56vg                     NaN                     NaN   \n",
       "WqV7zB_AbmUm9ww4f5W0kA                     NaN                     NaN   \n",
       "\n",
       "user_id                 Ml_csiUbdMHpmgfcExSyiA  CNXwJj_a8qVRbfY1fC8bDQ  \n",
       "business_id                                                             \n",
       "6PaLW1K478xyePOxUI56vg                     NaN                     NaN  \n",
       "WqV7zB_AbmUm9ww4f5W0kA                     NaN                     NaN  "
      ],
      "text/html": "<div>\n<style scoped>\n    .dataframe tbody tr th:only-of-type {\n        vertical-align: middle;\n    }\n\n    .dataframe tbody tr th {\n        vertical-align: top;\n    }\n\n    .dataframe thead th {\n        text-align: right;\n    }\n</style>\n<table border=\"1\" class=\"dataframe\">\n  <thead>\n    <tr style=\"text-align: right;\">\n      <th>user_id</th>\n      <th>8tZg2zUibRdMpi4J07x8lQ</th>\n      <th>MJK355xlNSmNIMQR9uiMhw</th>\n      <th>uV6BVZvfZlkXE_kDl5TYvA</th>\n      <th>cMICMnkK9tY8LZuo3c0wmw</th>\n      <th>-GuvrWICxU0Geuzf6C6ueg</th>\n      <th>JTxAi7AjAI9Kyomz_sjrGA</th>\n      <th>Fzn6uxciZpmDqdqumbllsw</th>\n      <th>oA9_53PYHfZ0hfj6yiLvXw</th>\n      <th>RMyS4XeIhDTVTwZWrgIYQQ</th>\n      <th>jE72VXCulJovxqa-1-xRKQ</th>\n      <th>ova6bEhtQdJBoDpv-SXGBg</th>\n      <th>5N8gnPF1Z-gNRSW61ml4wQ</th>\n      <th>GELAYOjfMP3UFzsvGW_9hw</th>\n      <th>q24Yt8KSOY9mmDFJQCWfnQ</th>\n      <th>Bx9eipleQL2MXYnIF2NgQQ</th>\n      <th>LYofqaVL9Gi0bD2MH8Mp0g</th>\n      <th>rG3DBzCbrdduHPn6sWAGxA</th>\n      <th>v2f0S4pYC9K9z9vSWvssdQ</th>\n      <th>4PnnMO-RjQupXGy1peKBOA</th>\n      <th>l3gaXTfWJfawjBRBUdsC-g</th>\n      <th>-hH7gZo6LNoNmr4vSJXPnQ</th>\n      <th>EVUcN4EEO-3gqhcsOTA2HQ</th>\n      <th>harBoh7qn8PeCiz2haZ0nA</th>\n      <th>0enntixMjOfDclGF-ivgzA</th>\n      <th>I26_9YN1UBHuRb01AFCVmw</th>\n      <th>TCtvPbF143x-3WsVpO8q2A</th>\n      <th>bCEEgcAFFs23vt9XOj4_7g</th>\n      <th>T2GVsPR6hK_TtUXtQXK3kw</th>\n      <th>1LUpRfjduqrBbLpQU4IQcw</th>\n      <th>e9eEpVE3BlwUQKVVYYv-FA</th>\n      <th>HaJKQ4UgxVxV2fHjSL4muw</th>\n      <th>zIG_6Qupb_KcofxUhvWQxQ</th>\n      <th>-2d53Lq30jLAKAfB6UOMeA</th>\n      <th>4-l4Bzfi1HWMAnAZPcDQeA</th>\n      <th>8pMD14LKEbn3TLQf6z3dCg</th>\n      <th>bXLK0qX7Z_wHqIqN6P-61Q</th>\n      <th>VVuEWxu6EOlM983QI5L_xw</th>\n      <th>14aFc0knShstCJUEczUbwA</th>\n      <th>2P_6qkzuh6BUbukeTCM_bQ</th>\n      <th>H3WIdW9E-QUjZXPwEBdG2g</th>\n      <th>hOVKuWWPSZqWnZd7nodFBw</th>\n      <th>z8Pw1e7Q2S-01XmnkXLENw</th>\n      <th>eG0lzb04HP4IIUhL3I2eXw</th>\n      <th>IConfV9eyeT_KcnT3-ek9A</th>\n      <th>ck6zktLIoKeXNczooBaNmA</th>\n      <th>4FKi9pf5EIXFzsH36R7sWA</th>\n      <th>uOYhRRceTon7sgG7uOY_UA</th>\n      <th>dahbN08U85CHJNpCazrTrQ</th>\n      <th>f61VnlgdQcNvdxS5uHPcoA</th>\n      <th>ZrLYsX1yGYSpcZ2DNQbAvQ</th>\n      <th>Z_FzGGu5vggFwelcMy17oA</th>\n      <th>tgzykwiRJZyyLTUCqwBNEQ</th>\n      <th>F6VWtEmBci_w_lqcmnGJ1A</th>\n      <th>e5pyf1lm0H6t-6P8sq3tBQ</th>\n      <th>MClukJ-vTxTvi3vSUlur2A</th>\n      <th>Qtpzo30r83Jaqr4CX4-Urg</th>\n      <th>7D0V9E-9feDNFUkq581jlQ</th>\n      <th>fcNckRiv5_57ZW03t3HYmw</th>\n      <th>Ml_csiUbdMHpmgfcExSyiA</th>\n      <th>CNXwJj_a8qVRbfY1fC8bDQ</th>\n    </tr>\n    <tr>\n      <th>business_id</th>\n      <th></th>\n      <th></th>\n      <th></th>\n      <th></th>\n      <th></th>\n      <th></th>\n      <th></th>\n      <th></th>\n      <th></th>\n      <th></th>\n      <th></th>\n      <th></th>\n      <th></th>\n      <th></th>\n      <th></th>\n      <th></th>\n      <th></th>\n      <th></th>\n      <th></th>\n      <th></th>\n      <th></th>\n      <th></th>\n      <th></th>\n      <th></th>\n      <th></th>\n      <th></th>\n      <th></th>\n      <th></th>\n      <th></th>\n      <th></th>\n      <th></th>\n      <th></th>\n      <th></th>\n      <th></th>\n      <th></th>\n      <th></th>\n      <th></th>\n      <th></th>\n      <th></th>\n      <th></th>\n      <th></th>\n      <th></th>\n      <th></th>\n      <th></th>\n      <th></th>\n      <th></th>\n      <th></th>\n      <th></th>\n      <th></th>\n      <th></th>\n      <th></th>\n      <th></th>\n      <th></th>\n      <th></th>\n      <th></th>\n      <th></th>\n      <th></th>\n      <th></th>\n      <th></th>\n      <th></th>\n    </tr>\n  </thead>\n  <tbody>\n    <tr>\n      <th>6PaLW1K478xyePOxUI56vg</th>\n      <td>NaN</td>\n      <td>NaN</td>\n      <td>NaN</td>\n      <td>NaN</td>\n      <td>NaN</td>\n      <td>NaN</td>\n      <td>NaN</td>\n      <td>NaN</td>\n      <td>NaN</td>\n      <td>NaN</td>\n      <td>NaN</td>\n      <td>NaN</td>\n      <td>NaN</td>\n      <td>NaN</td>\n      <td>NaN</td>\n      <td>NaN</td>\n      <td>NaN</td>\n      <td>NaN</td>\n      <td>NaN</td>\n      <td>NaN</td>\n      <td>NaN</td>\n      <td>NaN</td>\n      <td>NaN</td>\n      <td>NaN</td>\n      <td>NaN</td>\n      <td>NaN</td>\n      <td>NaN</td>\n      <td>NaN</td>\n      <td>4.895</td>\n      <td>NaN</td>\n      <td>NaN</td>\n      <td>NaN</td>\n      <td>NaN</td>\n      <td>NaN</td>\n      <td>NaN</td>\n      <td>NaN</td>\n      <td>NaN</td>\n      <td>NaN</td>\n      <td>NaN</td>\n      <td>NaN</td>\n      <td>NaN</td>\n      <td>NaN</td>\n      <td>NaN</td>\n      <td>NaN</td>\n      <td>NaN</td>\n      <td>NaN</td>\n      <td>NaN</td>\n      <td>NaN</td>\n      <td>NaN</td>\n      <td>NaN</td>\n      <td>NaN</td>\n      <td>NaN</td>\n      <td>NaN</td>\n      <td>NaN</td>\n      <td>NaN</td>\n      <td>NaN</td>\n      <td>NaN</td>\n      <td>NaN</td>\n      <td>NaN</td>\n      <td>NaN</td>\n    </tr>\n    <tr>\n      <th>WqV7zB_AbmUm9ww4f5W0kA</th>\n      <td>NaN</td>\n      <td>NaN</td>\n      <td>NaN</td>\n      <td>NaN</td>\n      <td>NaN</td>\n      <td>NaN</td>\n      <td>NaN</td>\n      <td>NaN</td>\n      <td>NaN</td>\n      <td>NaN</td>\n      <td>NaN</td>\n      <td>NaN</td>\n      <td>NaN</td>\n      <td>NaN</td>\n      <td>NaN</td>\n      <td>NaN</td>\n      <td>NaN</td>\n      <td>NaN</td>\n      <td>NaN</td>\n      <td>NaN</td>\n      <td>NaN</td>\n      <td>NaN</td>\n      <td>NaN</td>\n      <td>NaN</td>\n      <td>NaN</td>\n      <td>NaN</td>\n      <td>NaN</td>\n      <td>NaN</td>\n      <td>NaN</td>\n      <td>NaN</td>\n      <td>NaN</td>\n      <td>NaN</td>\n      <td>NaN</td>\n      <td>NaN</td>\n      <td>NaN</td>\n      <td>NaN</td>\n      <td>NaN</td>\n      <td>NaN</td>\n      <td>NaN</td>\n      <td>NaN</td>\n      <td>NaN</td>\n      <td>NaN</td>\n      <td>NaN</td>\n      <td>NaN</td>\n      <td>NaN</td>\n      <td>NaN</td>\n      <td>NaN</td>\n      <td>NaN</td>\n      <td>NaN</td>\n      <td>NaN</td>\n      <td>NaN</td>\n      <td>4.8891</td>\n      <td>NaN</td>\n      <td>NaN</td>\n      <td>NaN</td>\n      <td>NaN</td>\n      <td>NaN</td>\n      <td>NaN</td>\n      <td>NaN</td>\n      <td>NaN</td>\n    </tr>\n  </tbody>\n</table>\n</div>"
     },
     "metadata": {},
     "execution_count": 33
    }
   ],
   "source": [
    "untried_food = df_user[user] < -50\n",
    "df_rec = df_user.loc[untried_food, neighbors.index].copy()\n",
    "\n",
    "df_rec = df_rec.replace(-100, np.nan)  # Replace the un-rated beers with NAN values\n",
    "df_rec = df_rec.dropna(how='all')  # Only keep rows where at least one neighbor rated the beer\n",
    "\n",
    "df_rec"
   ]
  },
  {
   "cell_type": "code",
   "execution_count": 34,
   "metadata": {},
   "outputs": [
    {
     "output_type": "execute_result",
     "data": {
      "text/plain": [
       "business_id\n",
       "6PaLW1K478xyePOxUI56vg    4.8950\n",
       "WqV7zB_AbmUm9ww4f5W0kA    4.8891\n",
       "dtype: float64"
      ]
     },
     "metadata": {},
     "execution_count": 34
    }
   ],
   "source": [
    "avg_food_rating = np.nanmean(df_rec, axis=1)\n",
    "avg_food_rating = pd.Series(index=df_rec.index, data=avg_food_rating)\n",
    "avg_food_rating.sort_values(ascending=False, inplace=True)\n",
    "\n",
    "# Return up to `n_recommendations`\n",
    "n_recommendations = 5\n",
    "avg_food_rating[:n_recommendations]"
   ]
  },
  {
   "cell_type": "code",
   "execution_count": 35,
   "metadata": {},
   "outputs": [],
   "source": [
    "def get_recommendations(user, n_recommendations=5, n_neighbors=300):\n",
    "    neighbors = get_user_neighbors(user, n_neighbors+1)\n",
    "    neighbors = neighbors[1:]  # We don't want to include the user themself\n",
    "    \n",
    "    untried_food = df_user[user] < -40\n",
    "    df_rec = df_user.loc[untried_food, neighbors.index].copy()\n",
    "\n",
    "    df_rec = df_rec.replace(-100, np.nan)  # Replace the un-rated beers with NAN values\n",
    "    df_rec = df_rec.dropna(how='all')  # Only keep rows where at least one neighbor rated the beer\n",
    "    \n",
    "    # Get the average rating among the top `n_neighbors` of our user\n",
    "    avg_food_rating = np.nanmean(df_rec, axis=1)\n",
    "    avg_food_rating = pd.Series(index=df_rec.index, data=avg_food_rating)\n",
    "    avg_food_rating.sort_values(ascending=False, inplace=True)\n",
    "\n",
    "    # Return up to `n_recommendations`\n",
    "    return avg_food_rating[:n_recommendations]"
   ]
  },
  {
   "cell_type": "code",
   "execution_count": 51,
   "metadata": {},
   "outputs": [],
   "source": [
    "def get_recommendation_eval(user, n_recommendations=15, n_neighbors=300):\n",
    "\n",
    "    # Only get information for the top 100 beers\n",
    "    df_eval = df_subset[df_subset.business_id.isin(df_user.index)]\n",
    "    df_eval = df_eval[['business_id', 'business_name', 'business_city', 'business_categories', 'business_stars']].copy() \\\n",
    "                .drop_duplicates() \\\n",
    "                .set_index('business_id')\n",
    "\n",
    "    # Get the user rank for each beer \n",
    "    df_eval['user_rank'] = df_user[user]\n",
    "\n",
    "    # Calculate recommendations\n",
    "    recommendations = get_recommendations(user, n_recommendations, n_neighbors)\n",
    "\n",
    "    # Assign the recommendations to the dataframe (these have the same indices)\n",
    "    df_eval['recommended_rank'] = recommendations\n",
    "\n",
    "    # Only look at beers that have either ranked or recommended\n",
    "    df_eval = df_eval[df_eval['recommended_rank'] > 0]\n",
    "\n",
    "    return df_eval.sort_values(['business_name', 'business_categories', 'business_stars'])"
   ]
  },
  {
   "cell_type": "code",
   "execution_count": 49,
   "metadata": {},
   "outputs": [
    {
     "output_type": "execute_result",
     "data": {
      "text/plain": [
       "                                          business_name business_city  \\\n",
       "business_id                                                             \n",
       "2EhBiUnUTl_H2s4DXdKCTg                        Bistro 19    Pittsburgh   \n",
       "kBd3_wYt0BX-RfS8ymUTfQ                  Brugge On North    Pittsburgh   \n",
       "E3mP15gcpSBys8PGeJsuvQ                        Buon Cibo   Murrysville   \n",
       "in39cUCMBRjpwxw7qNSOfg    Condado Tacos - Lawrenceville    Pittsburgh   \n",
       "Ltf3TUXESd0V9emwx8NXWA              Dive Bar and Grille    Pittsburgh   \n",
       "ytlpNwWei-ESC15Vl0ZRlg      Eureka Chocolates and Gifts    Pittsburgh   \n",
       "Y8ceMeW3U0OxO-cRtRQbOA                  Helicon Brewing       Oakdale   \n",
       "0NoHJtug9xefI2OnsANaMA  Juniper Grill - Peters Township      McMurray   \n",
       "eNsM5ezjhPQWI6XlUGrUhw               Lin's Asian Fusion    Pittsburgh   \n",
       "Mh7C6p0KsuZLCB0vjrPgbQ                      Modern Cafe    Pittsburgh   \n",
       "yREHrM0k3MlDxc0ZjwRoNQ             Nico's Recovery Room    Pittsburgh   \n",
       "CipRVpM7YzsE-9U9wf2YNQ                     Redfin Blues    Pittsburgh   \n",
       "Rwahe1zbFpw6VIjb5ngZeg                        Sausalido    Pittsburgh   \n",
       "uIovmfzrCcJIlzfbpj_hzg                     Trader Joe's    Pittsburgh   \n",
       "rXKzE4Iraz7vGWovWW-aBA                     Yuzu Kitchen    Pittsburgh   \n",
       "\n",
       "                                                                                                                                                                              business_categories  \\\n",
       "business_id                                                                                                                                                                                         \n",
       "2EhBiUnUTl_H2s4DXdKCTg                                                                                                                                       Bistros, Restaurants, American (New)   \n",
       "kBd3_wYt0BX-RfS8ymUTfQ                                                                                                                                        Restaurants, American (Traditional)   \n",
       "E3mP15gcpSBys8PGeJsuvQ                                                                                                                                              Seafood, Restaurants, Italian   \n",
       "in39cUCMBRjpwxw7qNSOfg                                                                                                                      Tex-Mex, Nightlife, Tacos, Restaurants, Mexican, Bars   \n",
       "Ltf3TUXESd0V9emwx8NXWA                                                                                          Burgers, Nightlife, Bars, Restaurants, Breakfast & Brunch, American (Traditional)   \n",
       "ytlpNwWei-ESC15Vl0ZRlg  Candy Stores, Coffee & Tea, Specialty Food, Shopping, Cards & Stationery, Arts & Crafts, Chocolatiers & Shops, Flowers & Gifts, Desserts, Food, Event Planning & Services   \n",
       "Y8ceMeW3U0OxO-cRtRQbOA                                                                                                                                                            Breweries, Food   \n",
       "0NoHJtug9xefI2OnsANaMA                                                                                                   American (New), Bars, Nightlife, Restaurants, Food, Smokehouse, Southern   \n",
       "eNsM5ezjhPQWI6XlUGrUhw                                                                                                                                                  Asian Fusion, Restaurants   \n",
       "Mh7C6p0KsuZLCB0vjrPgbQ                                                                                                      Sandwiches, Beer Bar, Pubs, Restaurants, Bars, Sports Bars, Nightlife   \n",
       "yREHrM0k3MlDxc0ZjwRoNQ                                                                                                                Restaurants, Greek, Bars, American (Traditional), Nightlife   \n",
       "CipRVpM7YzsE-9U9wf2YNQ                                                                                                                               Nightlife, Restaurants, Bars, Pizza, Seafood   \n",
       "Rwahe1zbFpw6VIjb5ngZeg                                                   Restaurants, Modern European, Venues & Event Spaces, Food, Caterers, American (New), Event Planning & Services, Desserts   \n",
       "uIovmfzrCcJIlzfbpj_hzg                                                                                   Flowers & Gifts, Food, Florists, Beer, Wine & Spirits, Grocery, Shopping, Specialty Food   \n",
       "rXKzE4Iraz7vGWovWW-aBA                                   Restaurants, Bars, Japanese, Cocktail Bars, Korean, Izakaya, Nightlife, Ramen, Chinese, Venues & Event Spaces, Event Planning & Services   \n",
       "\n",
       "                        business_stars  user_rank  recommended_rank  \n",
       "business_id                                                          \n",
       "2EhBiUnUTl_H2s4DXdKCTg             4.0     -100.0            5.0157  \n",
       "kBd3_wYt0BX-RfS8ymUTfQ             4.0     -100.0            5.0056  \n",
       "E3mP15gcpSBys8PGeJsuvQ             4.0     -100.0            5.0053  \n",
       "in39cUCMBRjpwxw7qNSOfg             4.0     -100.0            5.0107  \n",
       "Ltf3TUXESd0V9emwx8NXWA             4.0     -100.0            5.0112  \n",
       "ytlpNwWei-ESC15Vl0ZRlg             5.0     -100.0            5.0098  \n",
       "Y8ceMeW3U0OxO-cRtRQbOA             4.0     -100.0            5.0307  \n",
       "0NoHJtug9xefI2OnsANaMA             3.5     -100.0            5.0049  \n",
       "eNsM5ezjhPQWI6XlUGrUhw             3.5     -100.0            5.0058  \n",
       "Mh7C6p0KsuZLCB0vjrPgbQ             4.0     -100.0            5.0065  \n",
       "yREHrM0k3MlDxc0ZjwRoNQ             3.5     -100.0            5.0143  \n",
       "CipRVpM7YzsE-9U9wf2YNQ             3.0     -100.0            5.0072  \n",
       "Rwahe1zbFpw6VIjb5ngZeg             4.0     -100.0            5.0096  \n",
       "uIovmfzrCcJIlzfbpj_hzg             4.0     -100.0            5.0103  \n",
       "rXKzE4Iraz7vGWovWW-aBA             4.0     -100.0            5.0129  "
      ],
      "text/html": "<div>\n<style scoped>\n    .dataframe tbody tr th:only-of-type {\n        vertical-align: middle;\n    }\n\n    .dataframe tbody tr th {\n        vertical-align: top;\n    }\n\n    .dataframe thead th {\n        text-align: right;\n    }\n</style>\n<table border=\"1\" class=\"dataframe\">\n  <thead>\n    <tr style=\"text-align: right;\">\n      <th></th>\n      <th>business_name</th>\n      <th>business_city</th>\n      <th>business_categories</th>\n      <th>business_stars</th>\n      <th>user_rank</th>\n      <th>recommended_rank</th>\n    </tr>\n    <tr>\n      <th>business_id</th>\n      <th></th>\n      <th></th>\n      <th></th>\n      <th></th>\n      <th></th>\n      <th></th>\n    </tr>\n  </thead>\n  <tbody>\n    <tr>\n      <th>2EhBiUnUTl_H2s4DXdKCTg</th>\n      <td>Bistro 19</td>\n      <td>Pittsburgh</td>\n      <td>Bistros, Restaurants, American (New)</td>\n      <td>4.0</td>\n      <td>-100.0</td>\n      <td>5.0157</td>\n    </tr>\n    <tr>\n      <th>kBd3_wYt0BX-RfS8ymUTfQ</th>\n      <td>Brugge On North</td>\n      <td>Pittsburgh</td>\n      <td>Restaurants, American (Traditional)</td>\n      <td>4.0</td>\n      <td>-100.0</td>\n      <td>5.0056</td>\n    </tr>\n    <tr>\n      <th>E3mP15gcpSBys8PGeJsuvQ</th>\n      <td>Buon Cibo</td>\n      <td>Murrysville</td>\n      <td>Seafood, Restaurants, Italian</td>\n      <td>4.0</td>\n      <td>-100.0</td>\n      <td>5.0053</td>\n    </tr>\n    <tr>\n      <th>in39cUCMBRjpwxw7qNSOfg</th>\n      <td>Condado Tacos - Lawrenceville</td>\n      <td>Pittsburgh</td>\n      <td>Tex-Mex, Nightlife, Tacos, Restaurants, Mexican, Bars</td>\n      <td>4.0</td>\n      <td>-100.0</td>\n      <td>5.0107</td>\n    </tr>\n    <tr>\n      <th>Ltf3TUXESd0V9emwx8NXWA</th>\n      <td>Dive Bar and Grille</td>\n      <td>Pittsburgh</td>\n      <td>Burgers, Nightlife, Bars, Restaurants, Breakfast &amp; Brunch, American (Traditional)</td>\n      <td>4.0</td>\n      <td>-100.0</td>\n      <td>5.0112</td>\n    </tr>\n    <tr>\n      <th>ytlpNwWei-ESC15Vl0ZRlg</th>\n      <td>Eureka Chocolates and Gifts</td>\n      <td>Pittsburgh</td>\n      <td>Candy Stores, Coffee &amp; Tea, Specialty Food, Shopping, Cards &amp; Stationery, Arts &amp; Crafts, Chocolatiers &amp; Shops, Flowers &amp; Gifts, Desserts, Food, Event Planning &amp; Services</td>\n      <td>5.0</td>\n      <td>-100.0</td>\n      <td>5.0098</td>\n    </tr>\n    <tr>\n      <th>Y8ceMeW3U0OxO-cRtRQbOA</th>\n      <td>Helicon Brewing</td>\n      <td>Oakdale</td>\n      <td>Breweries, Food</td>\n      <td>4.0</td>\n      <td>-100.0</td>\n      <td>5.0307</td>\n    </tr>\n    <tr>\n      <th>0NoHJtug9xefI2OnsANaMA</th>\n      <td>Juniper Grill - Peters Township</td>\n      <td>McMurray</td>\n      <td>American (New), Bars, Nightlife, Restaurants, Food, Smokehouse, Southern</td>\n      <td>3.5</td>\n      <td>-100.0</td>\n      <td>5.0049</td>\n    </tr>\n    <tr>\n      <th>eNsM5ezjhPQWI6XlUGrUhw</th>\n      <td>Lin's Asian Fusion</td>\n      <td>Pittsburgh</td>\n      <td>Asian Fusion, Restaurants</td>\n      <td>3.5</td>\n      <td>-100.0</td>\n      <td>5.0058</td>\n    </tr>\n    <tr>\n      <th>Mh7C6p0KsuZLCB0vjrPgbQ</th>\n      <td>Modern Cafe</td>\n      <td>Pittsburgh</td>\n      <td>Sandwiches, Beer Bar, Pubs, Restaurants, Bars, Sports Bars, Nightlife</td>\n      <td>4.0</td>\n      <td>-100.0</td>\n      <td>5.0065</td>\n    </tr>\n    <tr>\n      <th>yREHrM0k3MlDxc0ZjwRoNQ</th>\n      <td>Nico's Recovery Room</td>\n      <td>Pittsburgh</td>\n      <td>Restaurants, Greek, Bars, American (Traditional), Nightlife</td>\n      <td>3.5</td>\n      <td>-100.0</td>\n      <td>5.0143</td>\n    </tr>\n    <tr>\n      <th>CipRVpM7YzsE-9U9wf2YNQ</th>\n      <td>Redfin Blues</td>\n      <td>Pittsburgh</td>\n      <td>Nightlife, Restaurants, Bars, Pizza, Seafood</td>\n      <td>3.0</td>\n      <td>-100.0</td>\n      <td>5.0072</td>\n    </tr>\n    <tr>\n      <th>Rwahe1zbFpw6VIjb5ngZeg</th>\n      <td>Sausalido</td>\n      <td>Pittsburgh</td>\n      <td>Restaurants, Modern European, Venues &amp; Event Spaces, Food, Caterers, American (New), Event Planning &amp; Services, Desserts</td>\n      <td>4.0</td>\n      <td>-100.0</td>\n      <td>5.0096</td>\n    </tr>\n    <tr>\n      <th>uIovmfzrCcJIlzfbpj_hzg</th>\n      <td>Trader Joe's</td>\n      <td>Pittsburgh</td>\n      <td>Flowers &amp; Gifts, Food, Florists, Beer, Wine &amp; Spirits, Grocery, Shopping, Specialty Food</td>\n      <td>4.0</td>\n      <td>-100.0</td>\n      <td>5.0103</td>\n    </tr>\n    <tr>\n      <th>rXKzE4Iraz7vGWovWW-aBA</th>\n      <td>Yuzu Kitchen</td>\n      <td>Pittsburgh</td>\n      <td>Restaurants, Bars, Japanese, Cocktail Bars, Korean, Izakaya, Nightlife, Ramen, Chinese, Venues &amp; Event Spaces, Event Planning &amp; Services</td>\n      <td>4.0</td>\n      <td>-100.0</td>\n      <td>5.0129</td>\n    </tr>\n  </tbody>\n</table>\n</div>"
     },
     "metadata": {},
     "execution_count": 49
    }
   ],
   "source": [
    "get_recommendation_eval('5uXd58gs7dt9eqNw5vRawQ')"
   ]
  },
  {
   "cell_type": "code",
   "execution_count": 65,
   "metadata": {},
   "outputs": [
    {
     "output_type": "execute_result",
     "data": {
      "text/plain": [
       "                   business_id        business_name  \\\n",
       "142915  XItYW5ul3OW_AqpT2nDbBQ          Park Bruges   \n",
       "142916  Hdnx6cZBo0JfZopnQDWVYg     Teppanyaki Kyoto   \n",
       "142917  7aZf5c1UNotq4MabBXMZLA      Sichuan Gourmet   \n",
       "142918  XNWXyFgCGaAwvg9QML2Ypw  Mad Mex - Shadyside   \n",
       "\n",
       "                                          business_categories  \\\n",
       "142915  Restaurants, French, Belgian, Religious Organizations   \n",
       "142916                                  Restaurants, Japanese   \n",
       "142917          Restaurants, Szechuan, Chinese, Soup, Seafood   \n",
       "142918                          Mexican, Tex-Mex, Restaurants   \n",
       "\n",
       "                                                                                                                                                                                                                                                                                                                                                                                                                                                                                                                review_text  \\\n",
       "142915                                                                                                                                                                                                                                                                                                                                                             One of my favorites. Bloody Marys for brunch and a great beer selection. Mussels get all the press here, but my fav is the Bruges burger with coleslaw!!   \n",
       "142916  I'm really torn, because I'd like a business like this to exist on Bryant and do well, but aside from the atmosphere and friendly service, I'm not really sure what the fascination is. Maybe if the pricing was lower... (maybe I'd find one or two staples that tasted OK) everything comes out of a pre-packaged frozen bag and cooked straight from frozen state. It doesn't seem like there's much authentic about it, maybe this is how it's done in other restaurants, but don't do it right in front of ...   \n",
       "142917    Ok, ok, ok... So we ordered delivery on Christmas Eve, so I gave an extra star, because... Baby Jesus. But this was the most disgusting delivery food we've had in a long time. Vegetables were boiled down - which could explain why the containers were HALF FULL. Mostly luke warm at best. Spring rolls were 90% dough. General Tso's was soggy (I'll chalk that up to delivery, but have had somewhat decent breading from other places on delivery...) I'll just stop there, 'cause it's not worth my time.   \n",
       "142918    The plus side... open late. Do not go there if your expecting Mexican. Our food came out quickly, but still managed to taste like it was under a heat lamp for 15 min. The chips were definitely out of a bag, and the salsa was an effort on their part. Almost everything was an effort to eat. The only things standing between them and TGIFriday is the \"flare\" and the cactus for a door handle. Oh, and I guess TGIFriday probably wouldn't be playing any Fujia & Miagi - you know, the typical Mariachi.   \n",
       "\n",
       "        review_stars  business_stars business_city  \n",
       "142915           5.0             4.0    Pittsburgh  \n",
       "142916           2.0             4.0    Pittsburgh  \n",
       "142917           2.0             3.5    Pittsburgh  \n",
       "142918           2.0             3.5    Pittsburgh  "
      ],
      "text/html": "<div>\n<style scoped>\n    .dataframe tbody tr th:only-of-type {\n        vertical-align: middle;\n    }\n\n    .dataframe tbody tr th {\n        vertical-align: top;\n    }\n\n    .dataframe thead th {\n        text-align: right;\n    }\n</style>\n<table border=\"1\" class=\"dataframe\">\n  <thead>\n    <tr style=\"text-align: right;\">\n      <th></th>\n      <th>business_id</th>\n      <th>business_name</th>\n      <th>business_categories</th>\n      <th>review_text</th>\n      <th>review_stars</th>\n      <th>business_stars</th>\n      <th>business_city</th>\n    </tr>\n  </thead>\n  <tbody>\n    <tr>\n      <th>142915</th>\n      <td>XItYW5ul3OW_AqpT2nDbBQ</td>\n      <td>Park Bruges</td>\n      <td>Restaurants, French, Belgian, Religious Organizations</td>\n      <td>One of my favorites. Bloody Marys for brunch and a great beer selection. Mussels get all the press here, but my fav is the Bruges burger with coleslaw!!</td>\n      <td>5.0</td>\n      <td>4.0</td>\n      <td>Pittsburgh</td>\n    </tr>\n    <tr>\n      <th>142916</th>\n      <td>Hdnx6cZBo0JfZopnQDWVYg</td>\n      <td>Teppanyaki Kyoto</td>\n      <td>Restaurants, Japanese</td>\n      <td>I'm really torn, because I'd like a business like this to exist on Bryant and do well, but aside from the atmosphere and friendly service, I'm not really sure what the fascination is. Maybe if the pricing was lower... (maybe I'd find one or two staples that tasted OK) everything comes out of a pre-packaged frozen bag and cooked straight from frozen state. It doesn't seem like there's much authentic about it, maybe this is how it's done in other restaurants, but don't do it right in front of ...</td>\n      <td>2.0</td>\n      <td>4.0</td>\n      <td>Pittsburgh</td>\n    </tr>\n    <tr>\n      <th>142917</th>\n      <td>7aZf5c1UNotq4MabBXMZLA</td>\n      <td>Sichuan Gourmet</td>\n      <td>Restaurants, Szechuan, Chinese, Soup, Seafood</td>\n      <td>Ok, ok, ok... So we ordered delivery on Christmas Eve, so I gave an extra star, because... Baby Jesus. But this was the most disgusting delivery food we've had in a long time. Vegetables were boiled down - which could explain why the containers were HALF FULL. Mostly luke warm at best. Spring rolls were 90% dough. General Tso's was soggy (I'll chalk that up to delivery, but have had somewhat decent breading from other places on delivery...) I'll just stop there, 'cause it's not worth my time.</td>\n      <td>2.0</td>\n      <td>3.5</td>\n      <td>Pittsburgh</td>\n    </tr>\n    <tr>\n      <th>142918</th>\n      <td>XNWXyFgCGaAwvg9QML2Ypw</td>\n      <td>Mad Mex - Shadyside</td>\n      <td>Mexican, Tex-Mex, Restaurants</td>\n      <td>The plus side... open late. Do not go there if your expecting Mexican. Our food came out quickly, but still managed to taste like it was under a heat lamp for 15 min. The chips were definitely out of a bag, and the salsa was an effort on their part. Almost everything was an effort to eat. The only things standing between them and TGIFriday is the \"flare\" and the cactus for a door handle. Oh, and I guess TGIFriday probably wouldn't be playing any Fujia &amp; Miagi - you know, the typical Mariachi.</td>\n      <td>2.0</td>\n      <td>3.5</td>\n      <td>Pittsburgh</td>\n    </tr>\n  </tbody>\n</table>\n</div>"
     },
     "metadata": {},
     "execution_count": 65
    }
   ],
   "source": [
    "df_subset[df_subset.user_id=='i79grgTjhFxqaQs9jcZKPA'][['business_id', 'business_name', 'business_categories','review_text', 'review_stars', 'business_stars', 'business_city']]"
   ]
  }
 ]
}