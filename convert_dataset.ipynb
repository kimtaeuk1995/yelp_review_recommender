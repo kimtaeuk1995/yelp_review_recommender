{
 "metadata": {
  "language_info": {
   "codemirror_mode": {
    "name": "ipython",
    "version": 3
   },
   "file_extension": ".py",
   "mimetype": "text/x-python",
   "name": "python",
   "nbconvert_exporter": "python",
   "pygments_lexer": "ipython3",
   "version": "3.7.7-final"
  },
  "orig_nbformat": 2,
  "kernelspec": {
   "name": "Python 3.7.7 64-bit ('base': conda)",
   "display_name": "Python 3.7.7 64-bit ('base': conda)",
   "metadata": {
    "interpreter": {
     "hash": "c59ab9589ab9721951ace112490e4bf0ea865c3f59dd6195158da930da3c1de9"
    }
   }
  }
 },
 "nbformat": 4,
 "nbformat_minor": 2,
 "cells": [
  {
   "source": [
    "# Convert Yelp Dataset json files to csv"
   ],
   "cell_type": "markdown",
   "metadata": {}
  },
  {
   "cell_type": "code",
   "execution_count": 3,
   "metadata": {},
   "outputs": [],
   "source": [
    "import json\n",
    "import os\n",
    "\n",
    "import numpy as np\n",
    "import pandas as pd\n",
    "from tqdm import tqdm\n",
    "\n",
    "from collections import defaultdict\n",
    "\n",
    "import seaborn as sns\n",
    "\n",
    "from pandas_profiling import ProfileReport\n",
    "\n",
    "import pickle\n"
   ]
  },
  {
   "cell_type": "code",
   "execution_count": 30,
   "metadata": {},
   "outputs": [
    {
     "output_type": "stream",
     "name": "stderr",
     "text": [
      "209393it [00:03, 53924.53it/s]\n",
      "175187it [00:01, 107106.16it/s]\n",
      "8021122it [01:09, 115464.89it/s]\n",
      "1320761it [00:17, 74242.84it/s]\n",
      "1968703it [01:08, 28549.65it/s]\n"
     ]
    }
   ],
   "source": [
    "d = defaultdict(list)\n",
    "\n",
    "parent_dir = 'yelp_dataset/'\n",
    "\n",
    "path_dic = {'B': parent_dir+'yelp_academic_dataset_business.json', 'C': parent_dir+'yelp_academic_dataset_checkin.json', 'R': parent_dir+'yelp_academic_dataset_review.json', 'T': parent_dir+'yelp_academic_dataset_tip.json', 'U': parent_dir+'yelp_academic_dataset_user.json'}\n",
    "\n",
    "for key in path_dic:\n",
    "    with open(path_dic[key]) as f:\n",
    "        d[key] = pd.DataFrame(json.loads(line) for line in tqdm(f))\n"
   ]
  },
  {
   "cell_type": "code",
   "execution_count": 4,
   "metadata": {},
   "outputs": [],
   "source": [
    "business = d['B']\n",
    "pickle.dump(business, open(\"business.p\", \"wb\"))"
   ]
  },
  {
   "cell_type": "code",
   "execution_count": 31,
   "metadata": {},
   "outputs": [],
   "source": [
    "review = pd.DataFrame(d['R'])\n",
    "pickle.dump(review, open(\"review.p\", \"wb\"))"
   ]
  },
  {
   "cell_type": "code",
   "execution_count": 32,
   "metadata": {},
   "outputs": [],
   "source": [
    "user = pd.DataFrame(d['U'])\n",
    "pickle.dump(user, open(\"user.p\", \"wb\"))"
   ]
  },
  {
   "cell_type": "code",
   "execution_count": 33,
   "metadata": {},
   "outputs": [
    {
     "output_type": "display_data",
     "data": {
      "text/plain": "'business.shape: (168903, 12)'"
     },
     "metadata": {}
    },
    {
     "output_type": "display_data",
     "data": {
      "text/plain": "'review.shape: (8021122, 9)'"
     },
     "metadata": {}
    },
    {
     "output_type": "display_data",
     "data": {
      "text/plain": "'user.shape: (1968703, 22)'"
     },
     "metadata": {}
    }
   ],
   "source": [
    "display(\"business.shape: {}\".format(business.shape))\n",
    "display(\"review.shape: {}\".format(review.shape))\n",
    "display(\"user.shape: {}\".format(user.shape))"
   ]
  },
  {
   "cell_type": "code",
   "execution_count": 4,
   "metadata": {},
   "outputs": [],
   "source": [
    "business = pickle.load(open('business.p', 'rb'))\n",
    "review = pickle.load(open('review.p', 'rb'))\n",
    "user = pickle.load(open('user.p', 'rb'))"
   ]
  },
  {
   "source": [
    "# Keep business that are open in the PA"
   ],
   "cell_type": "markdown",
   "metadata": {}
  },
  {
   "cell_type": "code",
   "execution_count": 5,
   "metadata": {},
   "outputs": [
    {
     "output_type": "execute_result",
     "data": {
      "text/plain": [
       "1    168903\n",
       "0     40490\n",
       "Name: is_open, dtype: int64"
      ]
     },
     "metadata": {},
     "execution_count": 5
    }
   ],
   "source": [
    "business.is_open.value_counts()"
   ]
  },
  {
   "cell_type": "code",
   "execution_count": 6,
   "metadata": {},
   "outputs": [],
   "source": [
    "business = business[business['is_open']==1].drop(['hours', 'is_open'], axis=1)"
   ]
  },
  {
   "cell_type": "code",
   "execution_count": 13,
   "metadata": {},
   "outputs": [],
   "source": [
    "business_us = business[business.state=='PA']"
   ]
  },
  {
   "source": [
    "# Remove NAs"
   ],
   "cell_type": "markdown",
   "metadata": {}
  },
  {
   "cell_type": "code",
   "execution_count": 14,
   "metadata": {},
   "outputs": [],
   "source": [
    "def rename_removena(df, string):\n",
    "    df = df.dropna()\n",
    "    new_columns = string + df.columns.values\n",
    "    df.columns = new_columns\n",
    "\n",
    "    return df"
   ]
  },
  {
   "cell_type": "code",
   "execution_count": 15,
   "metadata": {},
   "outputs": [],
   "source": [
    "business_us = rename_removena(business_us, 'business_')\n",
    "business_us.rename(columns={'business_business_id':'business_id'}, inplace=True)\n",
    "\n",
    "review = rename_removena(review, 'review_')\n",
    "review.rename(columns={'review_review_id':'review_id', 'review_user_id':'user_id', 'review_business_id':'business_id'}, inplace=True)\n",
    "\n",
    "user = rename_removena(user, 'user_')\n",
    "user.rename(columns={'user_user_id':'user_id'}, inplace=True)\n",
    "\n"
   ]
  },
  {
   "source": [
    "# Look at only restaurants"
   ],
   "cell_type": "markdown",
   "metadata": {}
  },
  {
   "cell_type": "code",
   "execution_count": 16,
   "metadata": {},
   "outputs": [],
   "source": [
    "business_us_explode = business_us.assign(business_categories = business_us.business_categories.str.split(', ')).explode('business_categories')"
   ]
  },
  {
   "cell_type": "code",
   "execution_count": 17,
   "metadata": {},
   "outputs": [
    {
     "output_type": "stream",
     "name": "stdout",
     "text": [
      "Top 10 categories:\n"
     ]
    },
    {
     "output_type": "execute_result",
     "data": {
      "text/plain": [
       "Restaurants                  2962\n",
       "Food                         1685\n",
       "Shopping                     1653\n",
       "Beauty & Spas                 905\n",
       "Nightlife                     816\n",
       "Home Services                 792\n",
       "Bars                          755\n",
       "Health & Medical              681\n",
       "Local Services                660\n",
       "Automotive                    631\n",
       "Pizza                         602\n",
       "Event Planning & Services     591\n",
       "American (Traditional)        548\n",
       "Sandwiches                    520\n",
       "Active Life                   504\n",
       "Home & Garden                 386\n",
       "American (New)                383\n",
       "Coffee & Tea                  376\n",
       "Fast Food                     365\n",
       "Fashion                       361\n",
       "Hair Salons                   346\n",
       "Arts & Entertainment          339\n",
       "Italian                       333\n",
       "Burgers                       327\n",
       "Auto Repair                   324\n",
       "Breakfast & Brunch            305\n",
       "Nail Salons                   302\n",
       "Fitness & Instruction         234\n",
       "Hotels & Travel               222\n",
       "Grocery                       216\n",
       "Name: business_categories, dtype: int64"
      ]
     },
     "metadata": {},
     "execution_count": 17
    }
   ],
   "source": [
    "print('Top 10 categories:')\n",
    "business_us_explode.business_categories.value_counts()[:30]"
   ]
  },
  {
   "cell_type": "code",
   "execution_count": 54,
   "metadata": {},
   "outputs": [
    {
     "output_type": "execute_result",
     "data": {
      "text/plain": [
       "American (Traditional)    4377\n",
       "American (New)            2834\n",
       "Latin American             281\n",
       "Name: business_categories, dtype: int64"
      ]
     },
     "metadata": {},
     "execution_count": 54
    }
   ],
   "source": [
    "business_us_explode[business_us_explode['business_categories'].str.contains('american', case=False)].business_categories.value_counts()"
   ]
  },
  {
   "cell_type": "code",
   "execution_count": 18,
   "metadata": {},
   "outputs": [],
   "source": [
    "business_us_food = business_us[business_us['business_categories'].str.contains('restaurants|food', case=False)]"
   ]
  },
  {
   "cell_type": "code",
   "execution_count": 19,
   "metadata": {},
   "outputs": [],
   "source": [
    "business_us_food = business_us_food[~business_us_food['business_categories'].str.contains('fast food', case=False)]"
   ]
  },
  {
   "source": [
    "# Merge review and business tables"
   ],
   "cell_type": "markdown",
   "metadata": {}
  },
  {
   "cell_type": "code",
   "execution_count": 20,
   "metadata": {},
   "outputs": [
    {
     "output_type": "display_data",
     "data": {
      "text/plain": "'df.shape: (222293, 41)'"
     },
     "metadata": {}
    }
   ],
   "source": [
    "df = pd.merge(business_us_food, review, on='business_id', how='inner')\n",
    "df = pd.merge(df, user, how='inner', on='user_id')\n",
    "display(\"df.shape: {}\".format(df.shape))\n",
    "pickle.dump(df, open(\"df.p\", \"wb\"))"
   ]
  }
 ]
}